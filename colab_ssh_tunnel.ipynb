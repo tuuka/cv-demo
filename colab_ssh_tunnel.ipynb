{
  "nbformat": 4,
  "nbformat_minor": 0,
  "metadata": {
    "colab": {
      "name": "cv-demo.ipynb",
      "provenance": [],
      "collapsed_sections": []
    },
    "kernelspec": {
      "name": "python3",
      "display_name": "Python 3"
    }
  },
  "cells": [
    {
      "cell_type": "markdown",
      "metadata": {
        "id": "YbPbsr2lhd6_",
        "colab_type": "text"
      },
      "source": [
        "## Вставьте содержимое вашего локального файла ключей `~/.ssh/id_rsa.pub` (c:\\Users\\username\\\\.ssh\\id_rsa.pub для Windows), а также токен аутентификации ngrok в следующую ячейку\n",
        "\n",
        "- Если у вас нет  такого файла, используйте команду `ssh-keygen` для генерации.\n",
        "\n",
        "- ngrok authtoken можно скопировать отсюда: https://dashboard.ngrok.com/auth после бесплатной регистрации.\n",
        "\n",
        "\n"
      ]
    },
    {
      "cell_type": "code",
      "metadata": {
        "id": "T5JpZBDHeWx0",
        "colab_type": "code",
        "colab": {}
      },
      "source": [
        "# Вставьте содержимое локального id_rsa.pub сюда\n",
        "authorized_key = '''SSH-ключи вставлять сюда'''\n",
        "\n",
        "# Вставьте сюда authtoken из  https://dashboard.ngrok.com/auth\n",
        "ngrok_auth = 'NGROK-TOKEN вставлять сюда'"
      ],
      "execution_count": 0,
      "outputs": []
    },
    {
      "cell_type": "code",
      "metadata": {
        "colab_type": "code",
        "cellView": "form",
        "outputId": "d9edb8ae-3f2b-40f2-eba2-2e5184132959",
        "id": "mAhXEra_0EuT",
        "colab": {
          "base_uri": "https://localhost:8080/",
          "height": 1000
        }
      },
      "source": [
        "#@title Installing ssh and creating sshd_config here. Just run this cell!\n",
        "!apt-get install ssh\n",
        "sshd_config = '''\n",
        "#\t$OpenBSD: sshd_config,v 1.101 2017/03/14 07:19:07 djm Exp $\n",
        "\n",
        "# This is the sshd server system-wide configuration file.  See\n",
        "# sshd_config(5) for more information.\n",
        "\n",
        "# This sshd was compiled with PATH=/usr/bin:/bin:/usr/sbin:/sbin\n",
        "\n",
        "# The strategy used for options in the default sshd_config shipped with\n",
        "# OpenSSH is to specify options with their default value where\n",
        "# possible, but leave them commented.  Uncommented options override the\n",
        "# default value.\n",
        "\n",
        "#Port 22\n",
        "#AddressFamily any\n",
        "#ListenAddress 0.0.0.0\n",
        "#ListenAddress ::\n",
        "\n",
        "#HostKey /etc/ssh/ssh_host_rsa_key\n",
        "#HostKey /etc/ssh/ssh_host_ecdsa_key\n",
        "#HostKey /etc/ssh/ssh_host_ed25519_key\n",
        "\n",
        "# Ciphers and keying\n",
        "#RekeyLimit default none\n",
        "\n",
        "# Logging\n",
        "#SyslogFacility AUTH\n",
        "#LogLevel INFO\n",
        "\n",
        "# Authentication:\n",
        "\n",
        "#LoginGraceTime 2m\n",
        "#PermitRootLogin prohibit-password\n",
        "#StrictModes yes\n",
        "#MaxAuthTries 6\n",
        "#MaxSessions 10\n",
        "\n",
        "#PubkeyAuthentication yes\n",
        "\n",
        "# Expect .ssh/authorized_keys2 to be disregarded by default in future.\n",
        "#AuthorizedKeysFile\t.ssh/authorized_keys .ssh/authorized_keys2\n",
        "\n",
        "#AuthorizedPrincipalsFile none\n",
        "\n",
        "#AuthorizedKeysCommand none\n",
        "#AuthorizedKeysCommandUser nobody\n",
        "\n",
        "# For this to work you will also need host keys in /etc/ssh/ssh_known_hosts\n",
        "#HostbasedAuthentication no\n",
        "# Change to yes if you don't trust ~/.ssh/known_hosts for\n",
        "# HostbasedAuthentication\n",
        "#IgnoreUserKnownHosts no\n",
        "# Don't read the user's ~/.rhosts and ~/.shosts files\n",
        "#IgnoreRhosts yes\n",
        "\n",
        "# To disable tunneled clear text passwords, change to no here!\n",
        "#PasswordAuthentication yes\n",
        "#PermitEmptyPasswords no\n",
        "\n",
        "# Change to yes to enable challenge-response passwords (beware issues with\n",
        "# some PAM modules and threads)\n",
        "ChallengeResponseAuthentication no\n",
        "\n",
        "# Kerberos options\n",
        "#KerberosAuthentication no\n",
        "#KerberosOrLocalPasswd yes\n",
        "#KerberosTicketCleanup yes\n",
        "#KerberosGetAFSToken no\n",
        "\n",
        "# GSSAPI options\n",
        "#GSSAPIAuthentication no\n",
        "#GSSAPICleanupCredentials yes\n",
        "#GSSAPIStrictAcceptorCheck yes\n",
        "#GSSAPIKeyExchange no\n",
        "\n",
        "# Set this to 'yes' to enable PAM authentication, account processing,\n",
        "# and session processing. If this is enabled, PAM authentication will\n",
        "# be allowed through the ChallengeResponseAuthentication and\n",
        "# PasswordAuthentication.  Depending on your PAM configuration,\n",
        "# PAM authentication via ChallengeResponseAuthentication may bypass\n",
        "# the setting of \"PermitRootLogin without-password\".\n",
        "# If you just want the PAM account and session checks to run without\n",
        "# PAM authentication, then enable this but set PasswordAuthentication\n",
        "# and ChallengeResponseAuthentication to 'no'.\n",
        "UsePAM yes\n",
        "\n",
        "#AllowAgentForwarding yes\n",
        "AllowTcpForwarding yes\n",
        "#GatewayPorts no\n",
        "X11Forwarding yes\n",
        "#X11DisplayOffset 10\n",
        "#X11UseLocalhost yes\n",
        "#PermitTTY yes\n",
        "PrintMotd no\n",
        "#PrintLastLog yes\n",
        "#TCPKeepAlive yes\n",
        "#UseLogin no\n",
        "#PermitUserEnvironment no\n",
        "#Compression delayed\n",
        "#ClientAliveInterval 0\n",
        "#ClientAliveCountMax 3\n",
        "#UseDNS no\n",
        "#PidFile /var/run/sshd.pid\n",
        "#MaxStartups 10:30:100\n",
        "#PermitTunnel no\n",
        "#ChrootDirectory none\n",
        "#VersionAddendum none\n",
        "\n",
        "# no default banner path\n",
        "#Banner none\n",
        "\n",
        "# Allow client to pass locale environment variables\n",
        "AcceptEnv LANG LC_*\n",
        "\n",
        "# override default of no subsystems\n",
        "Subsystem\tsftp\t/usr/lib/openssh/sftp-server\n",
        "\n",
        "# Example of overriding settings on a per-user basis\n",
        "#Match User anoncvs\n",
        "#\tX11Forwarding no\n",
        "#\tAllowTcpForwarding no\n",
        "#\tPermitTTY no\n",
        "#\tForceCommand cvs server'''\n",
        "\n",
        "ssh_path = '/root/.ssh'\n",
        "ngrok_path = '/content/ngrok-ssh'\n",
        "\n",
        "ssh_yml='''\n",
        "tunnels:\n",
        "  ssh:\n",
        "    proto: tcp\n",
        "    addr: 22'''   \n",
        "\n",
        "http5000_yml = '''\n",
        "tunnels:\n",
        "  http5000:\n",
        "    proto: http\n",
        "    addr: 5000    \n",
        "    inspect: false\n",
        "    bind_tls: true'''\n",
        "\n",
        "run_ngrok_sh = '''#!/bin/sh\n",
        "set -x\n",
        "/ngrok start --config ~/.ngrok2/ngrok.yml --config ''' + ngrok_path + '''/ssh.yml --log=stdout --config ''' + ngrok_path + '''/http5000.yml \"$@\"\n",
        "'''"
      ],
      "execution_count": 3,
      "outputs": [
        {
          "output_type": "stream",
          "text": [
            "Reading package lists... Done\n",
            "Building dependency tree       \n",
            "Reading state information... Done\n",
            "The following package was automatically installed and is no longer required:\n",
            "  libnvidia-common-430\n",
            "Use 'apt autoremove' to remove it.\n",
            "The following additional packages will be installed:\n",
            "  ncurses-term openssh-server openssh-sftp-server python3-certifi\n",
            "  python3-chardet python3-idna python3-pkg-resources python3-requests\n",
            "  python3-six python3-urllib3 ssh-import-id\n",
            "Suggested packages:\n",
            "  molly-guard monkeysphere rssh ssh-askpass ufw python3-setuptools\n",
            "  python3-cryptography python3-openssl python3-socks\n",
            "The following NEW packages will be installed:\n",
            "  ncurses-term openssh-server openssh-sftp-server python3-certifi\n",
            "  python3-chardet python3-idna python3-pkg-resources python3-requests\n",
            "  python3-six python3-urllib3 ssh ssh-import-id\n",
            "0 upgraded, 12 newly installed, 0 to remove and 25 not upgraded.\n",
            "Need to get 1,154 kB of archives.\n",
            "After this operation, 7,710 kB of additional disk space will be used.\n",
            "Get:1 http://archive.ubuntu.com/ubuntu bionic-updates/main amd64 openssh-sftp-server amd64 1:7.6p1-4ubuntu0.3 [45.6 kB]\n",
            "Get:2 http://archive.ubuntu.com/ubuntu bionic-updates/main amd64 openssh-server amd64 1:7.6p1-4ubuntu0.3 [333 kB]\n",
            "Get:3 http://archive.ubuntu.com/ubuntu bionic-updates/main amd64 ssh all 1:7.6p1-4ubuntu0.3 [5,204 B]\n",
            "Get:4 http://archive.ubuntu.com/ubuntu bionic-updates/main amd64 ncurses-term all 6.1-1ubuntu1.18.04 [248 kB]\n",
            "Get:5 http://archive.ubuntu.com/ubuntu bionic/main amd64 python3-certifi all 2018.1.18-2 [144 kB]\n",
            "Get:6 http://archive.ubuntu.com/ubuntu bionic/main amd64 python3-pkg-resources all 39.0.1-2 [98.8 kB]\n",
            "Get:7 http://archive.ubuntu.com/ubuntu bionic/main amd64 python3-chardet all 3.0.4-1 [80.3 kB]\n",
            "Get:8 http://archive.ubuntu.com/ubuntu bionic/main amd64 python3-idna all 2.6-1 [32.5 kB]\n",
            "Get:9 http://archive.ubuntu.com/ubuntu bionic/main amd64 python3-six all 1.11.0-2 [11.4 kB]\n",
            "Get:10 http://archive.ubuntu.com/ubuntu bionic-updates/main amd64 python3-urllib3 all 1.22-1ubuntu0.18.04.1 [86.0 kB]\n",
            "Get:11 http://archive.ubuntu.com/ubuntu bionic-updates/main amd64 python3-requests all 2.18.4-2ubuntu0.1 [58.3 kB]\n",
            "Get:12 http://archive.ubuntu.com/ubuntu bionic-updates/main amd64 ssh-import-id all 5.7-0ubuntu1.1 [10.9 kB]\n",
            "Fetched 1,154 kB in 1s (1,322 kB/s)\n",
            "Preconfiguring packages ...\n",
            "Selecting previously unselected package openssh-sftp-server.\n",
            "(Reading database ... 134443 files and directories currently installed.)\n",
            "Preparing to unpack .../00-openssh-sftp-server_1%3a7.6p1-4ubuntu0.3_amd64.deb ...\n",
            "Unpacking openssh-sftp-server (1:7.6p1-4ubuntu0.3) ...\n",
            "Selecting previously unselected package openssh-server.\n",
            "Preparing to unpack .../01-openssh-server_1%3a7.6p1-4ubuntu0.3_amd64.deb ...\n",
            "Unpacking openssh-server (1:7.6p1-4ubuntu0.3) ...\n",
            "Selecting previously unselected package ssh.\n",
            "Preparing to unpack .../02-ssh_1%3a7.6p1-4ubuntu0.3_all.deb ...\n",
            "Unpacking ssh (1:7.6p1-4ubuntu0.3) ...\n",
            "Selecting previously unselected package ncurses-term.\n",
            "Preparing to unpack .../03-ncurses-term_6.1-1ubuntu1.18.04_all.deb ...\n",
            "Unpacking ncurses-term (6.1-1ubuntu1.18.04) ...\n",
            "Selecting previously unselected package python3-certifi.\n",
            "Preparing to unpack .../04-python3-certifi_2018.1.18-2_all.deb ...\n",
            "Unpacking python3-certifi (2018.1.18-2) ...\n",
            "Selecting previously unselected package python3-pkg-resources.\n",
            "Preparing to unpack .../05-python3-pkg-resources_39.0.1-2_all.deb ...\n",
            "Unpacking python3-pkg-resources (39.0.1-2) ...\n",
            "Selecting previously unselected package python3-chardet.\n",
            "Preparing to unpack .../06-python3-chardet_3.0.4-1_all.deb ...\n",
            "Unpacking python3-chardet (3.0.4-1) ...\n",
            "Selecting previously unselected package python3-idna.\n",
            "Preparing to unpack .../07-python3-idna_2.6-1_all.deb ...\n",
            "Unpacking python3-idna (2.6-1) ...\n",
            "Selecting previously unselected package python3-six.\n",
            "Preparing to unpack .../08-python3-six_1.11.0-2_all.deb ...\n",
            "Unpacking python3-six (1.11.0-2) ...\n",
            "Selecting previously unselected package python3-urllib3.\n",
            "Preparing to unpack .../09-python3-urllib3_1.22-1ubuntu0.18.04.1_all.deb ...\n",
            "Unpacking python3-urllib3 (1.22-1ubuntu0.18.04.1) ...\n",
            "Selecting previously unselected package python3-requests.\n",
            "Preparing to unpack .../10-python3-requests_2.18.4-2ubuntu0.1_all.deb ...\n",
            "Unpacking python3-requests (2.18.4-2ubuntu0.1) ...\n",
            "Selecting previously unselected package ssh-import-id.\n",
            "Preparing to unpack .../11-ssh-import-id_5.7-0ubuntu1.1_all.deb ...\n",
            "Unpacking ssh-import-id (5.7-0ubuntu1.1) ...\n",
            "Setting up ncurses-term (6.1-1ubuntu1.18.04) ...\n",
            "Setting up python3-idna (2.6-1) ...\n",
            "Setting up python3-six (1.11.0-2) ...\n",
            "Setting up python3-certifi (2018.1.18-2) ...\n",
            "Setting up python3-pkg-resources (39.0.1-2) ...\n",
            "Setting up openssh-sftp-server (1:7.6p1-4ubuntu0.3) ...\n",
            "Setting up python3-chardet (3.0.4-1) ...\n",
            "Setting up python3-urllib3 (1.22-1ubuntu0.18.04.1) ...\n",
            "Setting up openssh-server (1:7.6p1-4ubuntu0.3) ...\n",
            "\n",
            "Creating config file /etc/ssh/sshd_config with new version\n",
            "Creating SSH2 RSA key; this may take some time ...\n",
            "2048 SHA256:+OSP4K1D7i0raMbtc8PMOz9ZtomlHv2n1Xd5KpaNtEc root@bccd39ab1ddc (RSA)\n",
            "Creating SSH2 ECDSA key; this may take some time ...\n",
            "256 SHA256:FNTCzJY/T/OiCSSP8+rbgrrY1buj5VJSHCp7tj3voLw root@bccd39ab1ddc (ECDSA)\n",
            "Creating SSH2 ED25519 key; this may take some time ...\n",
            "256 SHA256:cKzintaItf2+xDnAOFkex0et2Mr6XYh++rcv/8VNtO8 root@bccd39ab1ddc (ED25519)\n",
            "Created symlink /etc/systemd/system/sshd.service → /lib/systemd/system/ssh.service.\n",
            "Created symlink /etc/systemd/system/multi-user.target.wants/ssh.service → /lib/systemd/system/ssh.service.\n",
            "invoke-rc.d: could not determine current runlevel\n",
            "invoke-rc.d: policy-rc.d denied execution of start.\n",
            "Setting up python3-requests (2.18.4-2ubuntu0.1) ...\n",
            "Setting up ssh-import-id (5.7-0ubuntu1.1) ...\n",
            "Setting up ssh (1:7.6p1-4ubuntu0.3) ...\n",
            "Processing triggers for man-db (2.8.3-2ubuntu0.1) ...\n",
            "Processing triggers for systemd (237-3ubuntu10.38) ...\n"
          ],
          "name": "stdout"
        }
      ]
    },
    {
      "cell_type": "code",
      "metadata": {
        "id": "9uVUgocPKf6E",
        "colab_type": "code",
        "colab": {
          "base_uri": "https://localhost:8080/",
          "height": 306
        },
        "cellView": "form",
        "outputId": "f1125e90-b9b6-41a0-d124-a6ff699c1509"
      },
      "source": [
        "#@title Installing and running ngrok. Just run this cell.\n",
        "\n",
        "import os\n",
        "\n",
        "if not os.path.exists(ssh_path): os.makedirs(ssh_path)\n",
        "if not os.path.exists(ngrok_path): os.makedirs(ngrok_path)\n",
        "\n",
        "with open(os.path.join(ssh_path, 'authorized_keys'), \"w\") as authorized_keys_file:\n",
        "    authorized_keys_file.write(authorized_key+'\\n')\n",
        "with open('/etc/ssh/sshd_config', \"w\") as sshd_config_file:\n",
        "    sshd_config_file.write(sshd_config)\n",
        "\n",
        "!service ssh restart\n",
        "\n",
        "#!mkdir -p /drive/ngrok-ssh\n",
        "%cd {ngrok_path}\n",
        "!wget https://bin.equinox.io/c/4VmDzA7iaHb/ngrok-stable-linux-amd64.zip -O ngrok-stable-linux-amd64.zip\n",
        "!unzip -u ngrok-stable-linux-amd64.zip\n",
        "!cp \"$ngrok_path/ngrok\" /ngrok\n",
        "!chmod +x /ngrok\n",
        "!/ngrok authtoken {ngrok_auth}\n",
        "\n",
        "with open(os.path.join(ngrok_path, 'ssh.yml'), \"w\") as ssh_yml_file:\n",
        "    ssh_yml_file.write(ssh_yml)\n",
        "\n",
        "with open(os.path.join(ngrok_path, 'http5000.yml'), \"w\") as http5000_yml_file:\n",
        "    http5000_yml_file.write(http5000_yml)\n",
        "\n",
        "with open(os.path.join(ngrok_path, 'run_ngrok.sh'), \"w\") as run_ngrok_sh_file:\n",
        "    run_ngrok_sh_file.write(run_ngrok_sh)\n",
        "\n",
        "ngrok_str ='''bash ''' + ngrok_path + '''/run_ngrok.sh ssh http5000 & '''\n",
        "\n",
        "get_ipython().system_raw(ngrok_str)"
      ],
      "execution_count": 4,
      "outputs": [
        {
          "output_type": "stream",
          "text": [
            " * Restarting OpenBSD Secure Shell server sshd\n",
            "   ...done.\n",
            "/content/ngrok-ssh\n",
            "--2020-02-27 08:48:37--  https://bin.equinox.io/c/4VmDzA7iaHb/ngrok-stable-linux-amd64.zip\n",
            "Resolving bin.equinox.io (bin.equinox.io)... 52.1.17.102, 52.70.189.149, 34.237.57.234, ...\n",
            "Connecting to bin.equinox.io (bin.equinox.io)|52.1.17.102|:443... connected.\n",
            "HTTP request sent, awaiting response... 200 OK\n",
            "Length: 13773305 (13M) [application/octet-stream]\n",
            "Saving to: ‘ngrok-stable-linux-amd64.zip’\n",
            "\n",
            "ngrok-stable-linux- 100%[===================>]  13.13M  63.0MB/s    in 0.2s    \n",
            "\n",
            "2020-02-27 08:48:37 (63.0 MB/s) - ‘ngrok-stable-linux-amd64.zip’ saved [13773305/13773305]\n",
            "\n",
            "Archive:  ngrok-stable-linux-amd64.zip\n",
            "  inflating: ngrok                   \n",
            "Authtoken saved to configuration file: /root/.ngrok2/ngrok.yml\n"
          ],
          "name": "stdout"
        }
      ]
    },
    {
      "cell_type": "code",
      "metadata": {
        "id": "FeBKptaVKf1W",
        "colab_type": "code",
        "colab": {}
      },
      "source": [
        "# https://colab.research.google.com/github/shawwn/colab-tricks/blob/master/ngrok-tricks.ipynb\n",
        "import requests\n",
        "import urllib.parse\n",
        "\n",
        "def get_ngrok_info():\n",
        "  return requests.get('http://localhost:4040/api/tunnels').json()\n",
        "\n",
        "def get_ngrok_tunnels():\n",
        "  for tunnel in get_ngrok_info()['tunnels']:\n",
        "    name = tunnel['name']\n",
        "    yield name, tunnel\n",
        "\n",
        "def get_ngrok_tunnel(name):\n",
        "  for name1, tunnel in get_ngrok_tunnels():\n",
        "    if name == name1:\n",
        "      return tunnel\n",
        "\n",
        "def get_ngrok_url(name, local=False):\n",
        "  if local:\n",
        "    return get_ngrok_tunnel(name)['config']['addr']\n",
        "  else:\n",
        "    return get_ngrok_tunnel(name)['public_url']"
      ],
      "execution_count": 0,
      "outputs": []
    },
    {
      "cell_type": "code",
      "metadata": {
        "id": "vsAKk8hoJ-DJ",
        "colab_type": "code",
        "colab": {
          "base_uri": "https://localhost:8080/",
          "height": 51
        },
        "outputId": "ef742abf-0f93-4314-bb02-dd97db547371"
      },
      "source": [
        "for name, tunnel in get_ngrok_tunnels():\n",
        "  local_url = get_ngrok_url(name, local=True)\n",
        "  public_url = get_ngrok_url(name, local=False)\n",
        "  print('{:12s} {} <-> {}'.format(name, public_url, local_url))"
      ],
      "execution_count": 6,
      "outputs": [
        {
          "output_type": "stream",
          "text": [
            "http5000     https://1ab0f68a.ngrok.io <-> http://localhost:5000\n",
            "ssh          tcp://0.tcp.ngrok.io:15673 <-> localhost:22\n"
          ],
          "name": "stdout"
        }
      ]
    },
    {
      "cell_type": "code",
      "metadata": {
        "id": "O57Dnw413IvB",
        "colab_type": "code",
        "outputId": "342742ea-6486-47e4-bfb1-649751e30e98",
        "colab": {
          "base_uri": "https://localhost:8080/",
          "height": 68
        }
      },
      "source": [
        "public_url, public_port = urllib.parse.urlparse(get_ngrok_url('ssh')).netloc.split(':')\n",
        "print('To SSH into this colab instance, run the following command on your local machine:')\n",
        "print('')\n",
        "\n",
        "print('  ssh -p {} root@{}'.format(public_port, public_url))  "
      ],
      "execution_count": 6,
      "outputs": [
        {
          "output_type": "stream",
          "text": [
            "To SSH into this colab instance, run the following command on your local machine:\n",
            "\n",
            "  ssh -p 14877 root@0.tcp.ngrok.io\n"
          ],
          "name": "stdout"
        }
      ]
    },
    {
      "cell_type": "code",
      "metadata": {
        "id": "YpUP96Nw_BiW",
        "colab_type": "code",
        "outputId": "1f5e5106-24b6-4f55-96f2-4ef87917d679",
        "colab": {
          "base_uri": "https://localhost:8080/",
          "height": 479
        }
      },
      "source": [
        "!pip install flask_babel;\n",
        "%cd /content/\n",
        "!git clone https://github.com/tuuka/cv-demo\n",
        "%cd cv-demo\n",
        "!ls -la"
      ],
      "execution_count": 9,
      "outputs": [
        {
          "output_type": "stream",
          "text": [
            "Collecting flask_babel\n",
            "  Downloading https://files.pythonhosted.org/packages/76/a4/0115c7c520125853037fc1d6b3da132a526949640e27a699a13e05ec7593/Flask_Babel-1.0.0-py3-none-any.whl\n",
            "Requirement already satisfied: Babel>=2.3 in /usr/local/lib/python3.6/dist-packages (from flask_babel) (2.8.0)\n",
            "Requirement already satisfied: Flask in /usr/local/lib/python3.6/dist-packages (from flask_babel) (1.1.1)\n",
            "Requirement already satisfied: Jinja2>=2.5 in /usr/local/lib/python3.6/dist-packages (from flask_babel) (2.11.1)\n",
            "Requirement already satisfied: pytz in /usr/local/lib/python3.6/dist-packages (from flask_babel) (2018.9)\n",
            "Requirement already satisfied: itsdangerous>=0.24 in /usr/local/lib/python3.6/dist-packages (from Flask->flask_babel) (1.1.0)\n",
            "Requirement already satisfied: Werkzeug>=0.15 in /usr/local/lib/python3.6/dist-packages (from Flask->flask_babel) (1.0.0)\n",
            "Requirement already satisfied: click>=5.1 in /usr/local/lib/python3.6/dist-packages (from Flask->flask_babel) (7.0)\n",
            "Requirement already satisfied: MarkupSafe>=0.23 in /usr/local/lib/python3.6/dist-packages (from Jinja2>=2.5->flask_babel) (1.1.1)\n",
            "Installing collected packages: flask-babel\n",
            "Successfully installed flask-babel-1.0.0\n",
            "/content\n",
            "fatal: destination path 'cv-demo' already exists and is not an empty directory.\n",
            "/content/cv-demo\n",
            "total 40\n",
            "drwxr-xr-x 5 root root 4096 Feb 26 15:45 .\n",
            "drwxr-xr-x 1 root root 4096 Feb 26 15:44 ..\n",
            "drwxr-xr-x 9 root root 4096 Feb 26 15:45 app\n",
            "-rw-r--r-- 1 root root  254 Feb 26 15:44 config.py\n",
            "-rw-r--r-- 1 root root  574 Feb 26 15:45 config.pyc\n",
            "-rw-r--r-- 1 root root  116 Feb 26 15:44 cv-demo.py\n",
            "drwxr-xr-x 8 root root 4096 Feb 26 15:44 .git\n",
            "-rw-r--r-- 1 root root  107 Feb 26 15:44 .gitignore\n",
            "drwxr-xr-x 2 root root 4096 Feb 26 15:45 __pycache__\n",
            "-rw-r--r-- 1 root root   87 Feb 26 15:44 README.md\n"
          ],
          "name": "stdout"
        }
      ]
    },
    {
      "cell_type": "code",
      "metadata": {
        "id": "W3g9qs8s3Ipq",
        "colab_type": "code",
        "outputId": "f1796567-eb5e-4810-96a7-16093309cd8f",
        "colab": {
          "base_uri": "https://localhost:8080/",
          "height": 68
        }
      },
      "source": [
        "# To run app uncomment next line and run this cell. \n",
        "#get_ipython().system_raw('python3 cv-demo.py')"
      ],
      "execution_count": 10,
      "outputs": [
        {
          "output_type": "stream",
          "text": [
            "\n",
            "KeyboardInterrupt\n",
            "\n"
          ],
          "name": "stderr"
        }
      ]
    },
    {
      "cell_type": "code",
      "metadata": {
        "id": "TDwCM9JW3InQ",
        "colab_type": "code",
        "outputId": "d5d8155c-84ac-4ddf-9db5-95d5022b1c4f",
        "colab": {
          "base_uri": "https://localhost:8080/",
          "height": 34
        }
      },
      "source": [
        "# To terminate the tunnel uncomment next line and run this cell. \n",
        "#!kill $(ps aux | grep './ngrok' | awk '{print $2}')"
      ],
      "execution_count": 21,
      "outputs": [
        {
          "output_type": "stream",
          "text": [
            "^C\n"
          ],
          "name": "stdout"
        }
      ]
    },
    {
      "cell_type": "code",
      "metadata": {
        "id": "CZ4Qn88T12IO",
        "colab_type": "code",
        "colab": {}
      },
      "source": [
        ""
      ],
      "execution_count": 0,
      "outputs": []
    },
    {
      "cell_type": "code",
      "metadata": {
        "id": "w-vYEBLUhedt",
        "colab_type": "code",
        "colab": {}
      },
      "source": [
        ""
      ],
      "execution_count": 0,
      "outputs": []
    },
    {
      "cell_type": "markdown",
      "metadata": {
        "id": "t7rwGIkhhghT",
        "colab_type": "text"
      },
      "source": [
        "### Чтобы настроить удаленный интерпретатор в Pro версии PyCharm, раскомментируйте и запустите следующую ячейку, чтобы подключить ваш GoogleDrive для синхронизации проекта. В настройках удаленного интерпретатора PyCharm (помимо адреса и порта для ssh- подключения) необходимо будет указать mapping локальной папки проекта к папке /drive, которая, собственно, маунтится в ячейке ниже."
      ]
    },
    {
      "cell_type": "code",
      "metadata": {
        "colab_type": "code",
        "outputId": "0afd9d6b-bd6b-41df-fafe-2b729a7116e0",
        "id": "thG7NvNzEKKN",
        "colab": {
          "base_uri": "https://localhost:8080/",
          "height": 122
        }
      },
      "source": [
        "# mounting google drive\n",
        "\n",
        "'''\n",
        "from google.colab import drive\n",
        "drive.mount('/content/gdrive')\n",
        "!mkdir -p /drive\n",
        "path = \"/content/gdrive/My Drive/Colab Notebooks\"\n",
        "!mount --bind \"$path\" /drive\n",
        "'''"
      ],
      "execution_count": 0,
      "outputs": [
        {
          "output_type": "stream",
          "text": [
            "Go to this URL in a browser: https://accounts.google.com/o/oauth2/auth?client_id=947318989803-6bn6qk8qdgf4n4g3pfee6491hc0brc4i.apps.googleusercontent.com&redirect_uri=urn%3aietf%3awg%3aoauth%3a2.0%3aoob&response_type=code&scope=email%20https%3a%2f%2fwww.googleapis.com%2fauth%2fdocs.test%20https%3a%2f%2fwww.googleapis.com%2fauth%2fdrive%20https%3a%2f%2fwww.googleapis.com%2fauth%2fdrive.photos.readonly%20https%3a%2f%2fwww.googleapis.com%2fauth%2fpeopleapi.readonly\n",
            "\n",
            "Enter your authorization code:\n",
            "··········\n",
            "Mounted at /content/gdrive\n"
          ],
          "name": "stdout"
        }
      ]
    }
  ]
}